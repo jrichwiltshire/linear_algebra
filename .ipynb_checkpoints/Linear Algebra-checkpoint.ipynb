{
 "cells": [
  {
   "cell_type": "markdown",
   "id": "5ed307a9",
   "metadata": {},
   "source": [
    "# 2.1 Vectors and Linear Equations"
   ]
  },
  {
   "cell_type": "markdown",
   "id": "918efb3c",
   "metadata": {},
   "source": [
    "## 30)"
   ]
  },
  {
   "cell_type": "code",
   "execution_count": 2,
   "id": "89df8e9a",
   "metadata": {},
   "outputs": [],
   "source": [
    "import numpy as np"
   ]
  },
  {
   "cell_type": "code",
   "execution_count": 3,
   "id": "094959b9",
   "metadata": {},
   "outputs": [],
   "source": [
    "u = np.array([1,0])"
   ]
  },
  {
   "cell_type": "code",
   "execution_count": 4,
   "id": "a6eae3b6",
   "metadata": {},
   "outputs": [],
   "source": [
    "A = np.array([[.8, .3],\n",
    "            [.2, .7]])"
   ]
  },
  {
   "cell_type": "code",
   "execution_count": 7,
   "id": "f0051472",
   "metadata": {},
   "outputs": [
    {
     "data": {
      "text/plain": [
       "array([1, 0])"
      ]
     },
     "execution_count": 7,
     "metadata": {},
     "output_type": "execute_result"
    }
   ],
   "source": [
    "v = u\n",
    "v"
   ]
  },
  {
   "cell_type": "code",
   "execution_count": 8,
   "id": "c9a42bf9",
   "metadata": {},
   "outputs": [
    {
     "name": "stdout",
     "output_type": "stream",
     "text": [
      "[0.8 0.2]\n",
      "[0.7 0.3]\n",
      "[0.65 0.35]\n",
      "[0.625 0.375]\n",
      "[0.6125 0.3875]\n",
      "[0.60625 0.39375]\n",
      "[0.603125 0.396875]\n"
     ]
    }
   ],
   "source": [
    "for i in range(0,7):\n",
    "    v = np.dot(A,v)\n",
    "    print(v)"
   ]
  },
  {
   "cell_type": "code",
   "execution_count": 9,
   "id": "6baaa921",
   "metadata": {},
   "outputs": [
    {
     "name": "stdout",
     "output_type": "stream",
     "text": [
      "[0.6 0.4]\n",
      "[0.6 0.4]\n",
      "[0.6 0.4]\n",
      "[0.6 0.4]\n",
      "[0.6 0.4]\n",
      "[0.6 0.4]\n",
      "[0.6 0.4]\n"
     ]
    }
   ],
   "source": [
    "s = np.array([.6, .4])\n",
    "for i in range(0,7):\n",
    "    s = np.dot(A,s)\n",
    "    print(s)"
   ]
  },
  {
   "cell_type": "code",
   "execution_count": null,
   "id": "09b25e8c",
   "metadata": {},
   "outputs": [],
   "source": []
  }
 ],
 "metadata": {
  "hide_input": false,
  "kernelspec": {
   "display_name": "Python 3 (ipykernel)",
   "language": "python",
   "name": "python3"
  },
  "language_info": {
   "codemirror_mode": {
    "name": "ipython",
    "version": 3
   },
   "file_extension": ".py",
   "mimetype": "text/x-python",
   "name": "python",
   "nbconvert_exporter": "python",
   "pygments_lexer": "ipython3",
   "version": "3.9.7"
  },
  "toc": {
   "base_numbering": 1,
   "nav_menu": {},
   "number_sections": true,
   "sideBar": true,
   "skip_h1_title": false,
   "title_cell": "Table of Contents",
   "title_sidebar": "Contents",
   "toc_cell": false,
   "toc_position": {},
   "toc_section_display": true,
   "toc_window_display": false
  },
  "varInspector": {
   "cols": {
    "lenName": 16,
    "lenType": 16,
    "lenVar": 40
   },
   "kernels_config": {
    "python": {
     "delete_cmd_postfix": "",
     "delete_cmd_prefix": "del ",
     "library": "var_list.py",
     "varRefreshCmd": "print(var_dic_list())"
    },
    "r": {
     "delete_cmd_postfix": ") ",
     "delete_cmd_prefix": "rm(",
     "library": "var_list.r",
     "varRefreshCmd": "cat(var_dic_list()) "
    }
   },
   "types_to_exclude": [
    "module",
    "function",
    "builtin_function_or_method",
    "instance",
    "_Feature"
   ],
   "window_display": false
  }
 },
 "nbformat": 4,
 "nbformat_minor": 5
}
